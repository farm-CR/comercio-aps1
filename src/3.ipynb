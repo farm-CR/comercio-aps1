{
 "cells": [
  {
   "cell_type": "code",
   "execution_count": 62,
   "metadata": {},
   "outputs": [],
   "source": [
    "import pandas as pd\n",
    "import numpy as np\n",
    "import warnings"
   ]
  },
  {
   "cell_type": "code",
   "execution_count": 58,
   "metadata": {},
   "outputs": [],
   "source": [
    "#IMPORT DOS DADOS\n",
    "df = (\n",
    "    pd.read_csv(\"relatorios/tabela_ex3.csv\", index_col=0)\n",
    "    .query(\"year == 2016\")\n",
    "    .assign(\n",
    "        participacao_industria = lambda _: (_.total_pais_industria / _.total_pais)\n",
    "    )\n",
    ")"
   ]
  },
  {
   "cell_type": "code",
   "execution_count": 59,
   "metadata": {},
   "outputs": [],
   "source": [
    "df = (\n",
    "    \n",
    "    #CALCULO DO RANKING GLOBAL\n",
    "    pd.concat([df\n",
    "            .query(f'industry_name == \"{industria}\"')\n",
    "            .sort_values(by = \"RCA\", ascending = False)\n",
    "            .reset_index(drop = True).reset_index().rename({\"index\": \"posicao_global\"}, axis = 1)\n",
    "        for industria in df.industry_name.unique()\n",
    "        ]\n",
    "    ).assign(\n",
    "        posicao_global = lambda _: _.posicao_global + 1\n",
    "\n",
    "    #ARRUMAR PARA O RELATÓRIO\n",
    "    ).rename({\n",
    "            \"industry_name\": \"Indústria\",\n",
    "            \"participacao_industria\": \"Participação da Indústria nas Exportações\",\n",
    "            \"posicao_global\": \"Posição no Ranking Global RCA\"\n",
    "    }, axis = 1)\n",
    "    .filter([\n",
    "        \"exporter_iso3\",\n",
    "        \"Indústria\", \n",
    "        \"RCA\", \n",
    "        \"Participação da Indústria nas Exportações\",\n",
    "        \"Posição no Ranking Global RCA\", \n",
    "    ])\n",
    ")"
   ]
  },
  {
   "cell_type": "code",
   "execution_count": 65,
   "metadata": {},
   "outputs": [],
   "source": [
    "def relatorio_pais(pais = \"BRA\"):\n",
    "    \"\"\"Relatório em .tex para cada país\"\"\"\n",
    "\n",
    "    return (df\n",
    "        .query(f\"exporter_iso3 == '{pais}'\")\n",
    "        .drop(\"exporter_iso3\", axis = 1)\n",
    "        .sort_values(by = \"RCA\", ascending = False)\n",
    "        .head(6)\n",
    "        .to_latex(\n",
    "            index = False,\n",
    "            caption = f\"Relatório de exportações ({pais})\",\n",
    "            decimal = \",\",\n",
    "            formatters={\n",
    "                'RCA': '{:.2f}'.format,\n",
    "                \"Participação da Indústria nas Exportações\": '{:.2%}'.format\n",
    "            },\n",
    "            label = f\"tab:ex3-{pais}\",\n",
    "            column_format = ''.join(['p{{{}cm}}'.format(width) for width in [6, 2, 4, 3]])\n",
    "        )\n",
    "    )"
   ]
  },
  {
   "cell_type": "code",
   "execution_count": null,
   "metadata": {},
   "outputs": [],
   "source": [
    "#ESCRITA DE UM TEX POR PAIS\n",
    "for pais in df.exporter_iso3.unique():\n",
    "     with open(f'relatorios/tabelas/ex3-{pais}.tex', 'w') as tf:\n",
    "          tf.write(relatorio_pais(pais = pais))\n",
    "\n",
    "#TEX QUE INCLUI TODOS OS PAISES\n",
    "with open(f'latex/arquivos/todas-tabelas.tex', 'w') as tf:\n",
    "    tf.write(\"\\n\\n\".join([f\"\\input{{../relatorios/tabelas/ex3-{pais}}}\" for pais in df.sort_values(by = \"exporter_iso3\").exporter_iso3.unique()]))\n",
    "\n",
    "warnings.filterwarnings(\"ignore\", category=DeprecationWarning)"
   ]
  }
 ],
 "metadata": {
  "kernelspec": {
   "display_name": "base",
   "language": "python",
   "name": "python3"
  },
  "language_info": {
   "codemirror_mode": {
    "name": "ipython",
    "version": 3
   },
   "file_extension": ".py",
   "mimetype": "text/x-python",
   "name": "python",
   "nbconvert_exporter": "python",
   "pygments_lexer": "ipython3",
   "version": "3.10.8"
  },
  "orig_nbformat": 4
 },
 "nbformat": 4,
 "nbformat_minor": 2
}
