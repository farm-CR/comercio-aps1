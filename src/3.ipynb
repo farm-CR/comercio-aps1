{
 "cells": [
  {
   "cell_type": "code",
   "execution_count": 1,
   "metadata": {},
   "outputs": [],
   "source": [
    "\n",
    "import warnings\n",
    "import os\n",
    "warnings.filterwarnings(\"ignore\", category= FutureWarning)\n",
    "warnings.filterwarnings(\"ignore\", category= DeprecationWarning)\n",
    "\n",
    "import pandas as pd\n",
    "import numpy as np"
   ]
  },
  {
   "cell_type": "markdown",
   "metadata": {},
   "source": [
    "# Relatório por país"
   ]
  },
  {
   "cell_type": "code",
   "execution_count": 2,
   "metadata": {},
   "outputs": [],
   "source": [
    "#IMPORT DOS DADOS\n",
    "df = (\n",
    "    pd.read_csv(\"../relatorios/tabela_ex3.csv\", index_col=0)\n",
    "    .query(\"year == 2016\")\n",
    "    .assign(\n",
    "        participacao_industria = lambda _: (_.total_pais_industria / _.total_pais)\n",
    "    )\n",
    ")"
   ]
  },
  {
   "cell_type": "code",
   "execution_count": 3,
   "metadata": {},
   "outputs": [],
   "source": [
    "df = (\n",
    "    \n",
    "    #CALCULO DO RANKING GLOBAL\n",
    "    pd.concat([df\n",
    "            .query(f'industry_name == \"{industria}\"')\n",
    "            .sort_values(by = \"RCA\", ascending = False)\n",
    "            .reset_index(drop = True).reset_index().rename({\"index\": \"posicao_global\"}, axis = 1)\n",
    "        for industria in df.industry_name.unique()\n",
    "        ]\n",
    "    ).assign(\n",
    "        posicao_global = lambda _: _.posicao_global + 1\n",
    "\n",
    "    #ARRUMAR PARA O RELATÓRIO\n",
    "    ).rename({\n",
    "            \"industry_name\": \"Indústria\",\n",
    "            \"participacao_industria\": \"Participação da Indústria nas Exportações\",\n",
    "            \"posicao_global\": \"Posição no Ranking Global RCA\"\n",
    "    }, axis = 1)\n",
    "    .filter([\n",
    "        \"exporter_iso3\",\n",
    "        \"Indústria\", \n",
    "        \"RCA\", \n",
    "        \"Participação da Indústria nas Exportações\",\n",
    "        \"Posição no Ranking Global RCA\", \n",
    "    ])\n",
    ")"
   ]
  },
  {
   "cell_type": "code",
   "execution_count": 4,
   "metadata": {},
   "outputs": [],
   "source": [
    "def relatorio_pais(pais = \"BRA\"):\n",
    "    \"\"\"Relatório em .tex para cada país\"\"\"\n",
    "\n",
    "    return (df\n",
    "        .query(f\"exporter_iso3 == '{pais}'\")\n",
    "        .drop(\"exporter_iso3\", axis = 1)\n",
    "        .sort_values(by = \"RCA\", ascending = False)\n",
    "        .head(6)\n",
    "        .to_latex(\n",
    "            index = False,\n",
    "            caption = f\"Relatório de exportações ({pais})\",\n",
    "            decimal = \",\",\n",
    "            formatters={\n",
    "                'RCA': '{:.2f}'.format,\n",
    "                \"Participação da Indústria nas Exportações\": '{:.2%}'.format\n",
    "            },\n",
    "            label = f\"tab:ex3-{pais}\",\n",
    "            column_format = ''.join(['p{{{}cm}}'.format(width) for width in [6, 2, 4, 3]])\n",
    "        )\n",
    "    )"
   ]
  },
  {
   "cell_type": "code",
   "execution_count": 77,
   "metadata": {},
   "outputs": [],
   "source": [
    "#ESCRITA DE UM TEX POR PAIS\n",
    "for pais in df.exporter_iso3.unique():\n",
    "     with open(f'../relatorios/tabelas/ex3-{pais}.tex', 'w') as tf:\n",
    "          tf.write(relatorio_pais(pais = pais))\n",
    "\n",
    "#TEX QUE INCLUI TODOS OS PAISES\n",
    "with open(f'../latex/arquivos/todas-tabelas.tex', 'w') as tf:\n",
    "    tf.write(\"\\n\\n\".join([f\"\\input{{../relatorios/tabelas/ex3-{pais}}}\" for pais in df.sort_values(by = \"exporter_iso3\").exporter_iso3.unique()]))\n"
   ]
  },
  {
   "cell_type": "markdown",
   "metadata": {},
   "source": [
    "# País ao longo do tempo"
   ]
  },
  {
   "cell_type": "code",
   "execution_count": 11,
   "metadata": {},
   "outputs": [],
   "source": [
    "df = pd.read_csv(\"../relatorios/tabela_ex3.csv\", index_col=0)"
   ]
  },
  {
   "cell_type": "code",
   "execution_count": 12,
   "metadata": {},
   "outputs": [],
   "source": [
    "#CALCULO DO RANKING RCA PAIS\n",
    "df = (df\n",
    "   .query(\"year == 2016\")\n",
    "   .filter([\"exporter_iso3\", \"RCA\", \"industry_name\"])\n",
    "   .pipe(lambda DF: \n",
    "        pd.concat([\n",
    "            DF\n",
    "                .query(f'exporter_iso3 == \"{pais}\"')\n",
    "                .sort_values(by = \"RCA\", ascending = False)\n",
    "                .head(6)\n",
    "            for pais in DF.exporter_iso3.unique()\n",
    "            ]\n",
    "        )\n",
    "    )\n",
    "    .drop(\"RCA\", axis = 1)\n",
    "    .merge(df.filter([\"exporter_iso3\", \"year\", \"RCA\", \"industry_name\"]).query(\"year % 4 == 0\"), how = \"left\")\n",
    "    .rename({\"industry_name\": \"Indústria\"}, axis = 1)\n",
    ")"
   ]
  },
  {
   "cell_type": "code",
   "execution_count": 13,
   "metadata": {},
   "outputs": [],
   "source": [
    "def relatorio_pais_tempo(pais = \"BRA\"):\n",
    "    return (df\n",
    "        .query(f\"exporter_iso3 == '{pais}'\")\n",
    "        .pivot_table(index = \"Indústria\", columns = \"year\", values = \"RCA\")\n",
    "        .reset_index()\n",
    "        .to_latex(\n",
    "                index = False,\n",
    "                caption = f\"Valor do RCA ao longo dos anos para cada indústria ({pais})\",\n",
    "                decimal = \",\",\n",
    "                column_format = ''.join(['p{{{}cm}}'.format(width) for width in [6]+[1.5 for i in range(2000, 2017, 4)]]),\n",
    "                na_rep='-',\n",
    "                formatters={\n",
    "                ano: '{:.2f}'.format for ano in range(2000, 2017,4)\n",
    "            }\n",
    "        )\n",
    "    )"
   ]
  },
  {
   "cell_type": "code",
   "execution_count": 14,
   "metadata": {},
   "outputs": [],
   "source": [
    "#ESCRITA DE UM TEX POR PAIS\n",
    "for pais in df.exporter_iso3.unique():\n",
    "     with open(f'../relatorios/tabelas-tempo/ex3-{pais}.tex', 'w') as tf:\n",
    "          tf.write(relatorio_pais_tempo(pais = pais))\n",
    "\n",
    "#TEX QUE INCLUI TODOS OS PAISES\n",
    "with open(f'../latex/arquivos/todas-tabelas-tempo.tex', 'w') as tf:\n",
    "    tf.write(\"\\n\\n\".join([f\"\\input{{../relatorios/tabelas-tempo/ex3-{pais}}}\" for pais in df.sort_values(by = \"exporter_iso3\").exporter_iso3.unique()]))"
   ]
  }
 ],
 "metadata": {
  "kernelspec": {
   "display_name": "base",
   "language": "python",
   "name": "python3"
  },
  "language_info": {
   "codemirror_mode": {
    "name": "ipython",
    "version": 3
   },
   "file_extension": ".py",
   "mimetype": "text/x-python",
   "name": "python",
   "nbconvert_exporter": "python",
   "pygments_lexer": "ipython3",
   "version": "3.9.12"
  },
  "orig_nbformat": 4
 },
 "nbformat": 4,
 "nbformat_minor": 2
}
