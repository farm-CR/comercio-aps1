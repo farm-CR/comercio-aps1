{
 "cells": [
  {
   "cell_type": "code",
   "execution_count": 1,
   "metadata": {},
   "outputs": [],
   "source": [
    "import pandas as pd\n",
    "import numpy as np"
   ]
  },
  {
   "cell_type": "code",
   "execution_count": 2,
   "metadata": {},
   "outputs": [],
   "source": [
    "paises = pd.read_csv(\"continentes.csv\").filter([\"alpha-3\", \"name\", \"region\", \"sub-region\"])\n",
    "ue = (\n",
    "    \"BEL\", \"BGR\", \"CZE\", \"DNK\", \"DEU\", \"EST\", \"IRL\", \"GRC\", \"ESP\",\n",
    "    \"FRA\", \"HRV\", \"ITA\", \"CYP\", \"LVA\", \"LTU\", \"LUX\", \"HUN\", \"MLT\",\n",
    "    \"NLD\", \"AUT\", \"POL\", \"PRT\", \"ROU\", \"SVN\", \"SVK\", \"FIN\", \"SWE\"\n",
    ")"
   ]
  },
  {
   "cell_type": "code",
   "execution_count": 7,
   "metadata": {},
   "outputs": [],
   "source": [
    "df = pd.read_csv(\"../relatorios/tabela_ex6.csv\", index_col = 0)#.query(\"industry_name == 'Aircraft and spacecraft'\")"
   ]
  },
  {
   "cell_type": "code",
   "execution_count": 39,
   "metadata": {},
   "outputs": [
    {
     "name": "stderr",
     "output_type": "stream",
     "text": [
      "C:\\Users\\Usuario\\AppData\\Local\\Temp\\ipykernel_5252\\3264386060.py:3: FutureWarning: In future versions `DataFrame.to_latex` is expected to utilise the base implementation of `Styler.to_latex` for formatting and rendering. The arguments signature may therefore change. It is recommended instead to use `DataFrame.style.to_latex` which also contains additional functionality.\n",
      "  pd.concat([\n"
     ]
    }
   ],
   "source": [
    "with open(f'../relatorios/gl/gl.tex', 'w') as tf:\n",
    "    tf.write(\n",
    "        pd.concat([\n",
    "            #Calculo para o mundo\n",
    "            (df.dropna()\n",
    "                .merge(paises, left_on = \"exporter_iso3\", right_on = \"alpha-3\", how = \"left\")\n",
    "                .query(\"year % 2 == 0\")\n",
    "                .groupby([\"year\", \"sub-region\"]).GL_ij.mean().reset_index()\n",
    "                .pivot_table(index = \"sub-region\", columns = \"year\", values = \"GL_ij\")\n",
    "                .reset_index()\n",
    "                .rename({\"sub-region\": \"Sub-Região\"}, axis = 1)\n",
    "                .rename_axis(\"\", axis = 1)\n",
    "            ),\n",
    "            #Cálculo para a união europeia\n",
    "            (df\n",
    "                .assign(ue = lambda _: _.exporter_iso3.isin(ue))\n",
    "                .query(\"year % 2 == 0\")\n",
    "                .groupby([\"ue\", \"year\"]).GL_ij.mean().reset_index()\n",
    "                .pivot_table(index = \"ue\", columns = \"year\", values = \"GL_ij\").reset_index()\n",
    "                .query(\"ue == 1\")\n",
    "                .rename({\"ue\": \"Sub-Região\"}, axis = 1)\n",
    "                .rename_axis(\"\", axis = 1)\n",
    "                .replace({True: \"União Europeia\"})\n",
    "            )\n",
    "        ])\n",
    "        .round(3)\n",
    "        .to_latex(\n",
    "                    index = False,\n",
    "                    caption = f\"Índice de Grubel-Lloyd da indústria de aeronaves e espaçonaves\",\n",
    "                    decimal = \",\",\n",
    "                    column_format = ''.join(['p{{{}cm}}'.format(width) for width in [6]+[1.5 for i in range(2010, 2017, 2)]]),\n",
    "                    na_rep='-',\n",
    "                    label = f\"tab:ex6-gl\",\n",
    "        )   \n",
    "    )\n"
   ]
  }
 ],
 "metadata": {
  "kernelspec": {
   "display_name": "StreamLit",
   "language": "python",
   "name": "python3"
  },
  "language_info": {
   "codemirror_mode": {
    "name": "ipython",
    "version": 3
   },
   "file_extension": ".py",
   "mimetype": "text/x-python",
   "name": "python",
   "nbconvert_exporter": "python",
   "pygments_lexer": "ipython3",
   "version": "3.10.8"
  },
  "orig_nbformat": 4
 },
 "nbformat": 4,
 "nbformat_minor": 2
}
