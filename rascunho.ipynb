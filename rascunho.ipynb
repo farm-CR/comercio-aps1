{
 "cells": [
  {
   "cell_type": "code",
   "execution_count": 22,
   "metadata": {},
   "outputs": [],
   "source": [
    "import pandas as pd\n",
    "import numpy as np"
   ]
  },
  {
   "cell_type": "code",
   "execution_count": 120,
   "metadata": {},
   "outputs": [],
   "source": [
    "df = (\n",
    "    pd.read_csv(\"relatorios/tabela_ex3.csv\", index_col=0)\n",
    "    .query(\"year == 2016\")\n",
    "    .assign(\n",
    "        participacao_industria = lambda _: (_.total_pais_industria * 100 / _.total_pais).round(3).astype(str) + \"%\"\n",
    "    )\n",
    ")"
   ]
  },
  {
   "cell_type": "code",
   "execution_count": 121,
   "metadata": {},
   "outputs": [],
   "source": [
    "df = (\n",
    "    pd.concat([df\n",
    "            .query(f'industry_name == \"{industria}\"')\n",
    "            .sort_values(by = \"RCA\", ascending = False)\n",
    "            .reset_index(drop = True).reset_index().rename({\"index\": \"posicao_global\"}, axis = 1)\n",
    "        for industria in df.industry_name.unique()\n",
    "        ]\n",
    "    ).assign(posicao_global = lambda _: _.posicao_global + 1)\n",
    ")"
   ]
  },
  {
   "cell_type": "code",
   "execution_count": 137,
   "metadata": {},
   "outputs": [],
   "source": [
    "def relatorio_pais(pais = \"BRA\"):\n",
    "    return (df\n",
    "        .query(f\"exporter_iso3 == '{pais}'\")\n",
    "        .sort_values(by = \"RCA\", ascending = False)\n",
    "        .reset_index(drop = True)\n",
    "        .rename({\n",
    "            \"industry_name\": \"Indústria\",\n",
    "            \"participacao_industria\": \"Participação da Indústria\",\n",
    "            \"posicao_global\": \"Posição Global\"\n",
    "        }, axis = 1)\n",
    "        .filter([\n",
    "            \"Indústria\", \n",
    "            \"RCA\", \n",
    "            \"Participação da Indústria\",\n",
    "            \"Posição Global\", \n",
    "        ])\n",
    "\n",
    "    )"
   ]
  },
  {
   "cell_type": "code",
   "execution_count": 140,
   "metadata": {},
   "outputs": [
    {
     "name": "stderr",
     "output_type": "stream",
     "text": [
      "C:\\Users\\gumac\\AppData\\Local\\Temp\\ipykernel_2828\\737838825.py:5: FutureWarning: In future versions `DataFrame.to_latex` is expected to utilise the base implementation of `Styler.to_latex` for formatting and rendering. The arguments signature may therefore change. It is recommended instead to use `DataFrame.style.to_latex` which also contains additional functionality.\n",
      "  tf.write(relatorio_pais(pais = pais).head(6).to_latex())\n",
      "C:\\Users\\gumac\\AppData\\Local\\Temp\\ipykernel_2828\\737838825.py:5: FutureWarning: In future versions `DataFrame.to_latex` is expected to utilise the base implementation of `Styler.to_latex` for formatting and rendering. The arguments signature may therefore change. It is recommended instead to use `DataFrame.style.to_latex` which also contains additional functionality.\n",
      "  tf.write(relatorio_pais(pais = pais).head(6).to_latex())\n"
     ]
    }
   ],
   "source": [
    "paises = [\"BRA\", \"USA\"]\n",
    "\n",
    "for pais in paises:\n",
    "     with open(f'relatorios/tabelas/ex3-{pais}.tex', 'w') as tf:\n",
    "          tf.write(relatorio_pais(pais = pais).head(6).to_latex())"
   ]
  }
 ],
 "metadata": {
  "kernelspec": {
   "display_name": "base",
   "language": "python",
   "name": "python3"
  },
  "language_info": {
   "codemirror_mode": {
    "name": "ipython",
    "version": 3
   },
   "file_extension": ".py",
   "mimetype": "text/x-python",
   "name": "python",
   "nbconvert_exporter": "python",
   "pygments_lexer": "ipython3",
   "version": "3.9.12"
  },
  "orig_nbformat": 4
 },
 "nbformat": 4,
 "nbformat_minor": 2
}
